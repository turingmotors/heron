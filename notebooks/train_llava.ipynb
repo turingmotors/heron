{
 "cells": [
  {
   "cell_type": "code",
   "execution_count": 2,
   "metadata": {},
   "outputs": [],
   "source": [
    "import sys\n",
    "sys.path.append(\"..\")"
   ]
  },
  {
   "cell_type": "code",
   "execution_count": 3,
   "metadata": {},
   "outputs": [
    {
     "name": "stderr",
     "output_type": "stream",
     "text": [
      "/home/kotaro/miniconda3/envs/llava/lib/python3.10/site-packages/tqdm/auto.py:21: TqdmWarning: IProgress not found. Please update jupyter and ipywidgets. See https://ipywidgets.readthedocs.io/en/stable/user_install.html\n",
      "  from .autonotebook import tqdm as notebook_tqdm\n"
     ]
    },
    {
     "name": "stdout",
     "output_type": "stream",
     "text": [
      "[2023-08-31 07:49:28,031] [INFO] [real_accelerator.py:133:get_accelerator] Setting ds_accelerator to cuda (auto detect)\n"
     ]
    }
   ],
   "source": [
    "from heron.datasets.base_datasets import BaseDataset\n",
    "from heron.datasets.llava_datasets import LlavaDataset\n",
    "\n",
    "import os\n",
    "from typing import Any\n",
    "\n",
    "import deepspeed\n",
    "import fire\n",
    "import torch\n",
    "import yaml\n",
    "from transformers import Trainer, TrainingArguments\n",
    "\n",
    "from heron.datasets.utils import get_dataset\n",
    "from heron.models.utils import (\n",
    "    apply_lora_model,\n",
    "    load_model,\n",
    "    load_pretrained_weight,\n",
    "    set_trainable_params,\n",
    ")"
   ]
  },
  {
   "cell_type": "code",
   "execution_count": 2,
   "metadata": {},
   "outputs": [],
   "source": [
    "config_file = \"projects/video_blip_st_llava_ja/exp001.yml\"\n",
    "\n",
    "with open(config_file, \"r\") as i_:\n",
    "    config = yaml.safe_load(i_)\n",
    "\n",
    "if os.environ.get(\"WANDB_NAME\") is not None:\n",
    "    config[\"training\"][\"output_dir\"] = os.path.join(\n",
    "        config[\"training_config\"][\"output_dir\"], os.environ[\"WANDB_NAME\"]\n",
    "    )\n",
    "    \n",
    "model_config = config[\"model_config\"]"
   ]
  },
  {
   "cell_type": "code",
   "execution_count": 3,
   "metadata": {},
   "outputs": [],
   "source": [
    " # configの割り当て\n",
    "keys_to_finetune = config[\"model_config\"][\"keys_to_finetune\"]\n",
    "keys_to_freeze = config[\"model_config\"][\"keys_to_freeze\"]\n",
    "assert len(keys_to_finetune) == 0 or len(keys_to_freeze) == 0, \"either keys_to_finetune or keys_to_freeze should be empty\""
   ]
  },
  {
   "cell_type": "code",
   "execution_count": 4,
   "metadata": {},
   "outputs": [
    {
     "name": "stderr",
     "output_type": "stream",
     "text": [
      "You are using the legacy behaviour of the <class 'transformers.models.llama.tokenization_llama.LlamaTokenizer'>. This means that tokens that come after special tokens will not be properly handled. We recommend you to read the related pull request available at https://github.com/huggingface/transformers/pull/24565\n",
      "Found cached dataset json (/home/kotaro/.cache/huggingface/datasets/turing-motors___json/turing-motors--LLaVA-Instruct-150K-JA-29845189be995094/0.0.0/8bb11242116d547c741b2e8a1f18598ffdd40a1d4f2a2872c7a28b697434bc96)\n",
      "100%|██████████| 1/1 [00:00<00:00, 170.85it/s]\n",
      "Loading cached split indices for dataset at /home/kotaro/.cache/huggingface/datasets/turing-motors___json/turing-motors--LLaVA-Instruct-150K-JA-29845189be995094/0.0.0/8bb11242116d547c741b2e8a1f18598ffdd40a1d4f2a2872c7a28b697434bc96/cache-b2678b154479ce1c.arrow and /home/kotaro/.cache/huggingface/datasets/turing-motors___json/turing-motors--LLaVA-Instruct-150K-JA-29845189be995094/0.0.0/8bb11242116d547c741b2e8a1f18598ffdd40a1d4f2a2872c7a28b697434bc96/cache-a56b0567fccfeec0.arrow\n",
      "Found cached dataset json (/home/kotaro/.cache/huggingface/datasets/turing-motors___json/turing-motors--LLaVA-Instruct-150K-JA-29845189be995094/0.0.0/8bb11242116d547c741b2e8a1f18598ffdd40a1d4f2a2872c7a28b697434bc96)\n",
      "100%|██████████| 1/1 [00:00<00:00, 242.35it/s]\n",
      "Loading cached split indices for dataset at /home/kotaro/.cache/huggingface/datasets/turing-motors___json/turing-motors--LLaVA-Instruct-150K-JA-29845189be995094/0.0.0/8bb11242116d547c741b2e8a1f18598ffdd40a1d4f2a2872c7a28b697434bc96/cache-b2678b154479ce1c.arrow and /home/kotaro/.cache/huggingface/datasets/turing-motors___json/turing-motors--LLaVA-Instruct-150K-JA-29845189be995094/0.0.0/8bb11242116d547c741b2e8a1f18598ffdd40a1d4f2a2872c7a28b697434bc96/cache-a56b0567fccfeec0.arrow\n"
     ]
    }
   ],
   "source": [
    "# DatasetのLoad\n",
    "train_dataset, val_dataset = get_dataset(config)"
   ]
  },
  {
   "cell_type": "code",
   "execution_count": 5,
   "metadata": {},
   "outputs": [],
   "source": [
    "# 訓練に関するconfig\n",
    "train_config = config[\"training_config\"]\n",
    "train_config.pop(\"deepspeed\")\n",
    "training_args = TrainingArguments(**train_config)"
   ]
  },
  {
   "cell_type": "code",
   "execution_count": 28,
   "metadata": {},
   "outputs": [],
   "source": [
    "#train_dataset[0][\"attention_mask\"].shape, train_dataset[0][\"input_ids\"].shape, train_dataset[0][\"pixel_values\"].shape"
   ]
  },
  {
   "cell_type": "code",
   "execution_count": 6,
   "metadata": {},
   "outputs": [
    {
     "name": "stderr",
     "output_type": "stream",
     "text": [
      "Loading checkpoint shards: 100%|██████████| 3/3 [00:18<00:00,  6.28s/it]\n",
      "You are using a model of type blip-2 to instantiate a model of type video_blip. This is not supported for all configurations of models and can yield errors.\n"
     ]
    },
    {
     "name": "stdout",
     "output_type": "stream",
     "text": [
      "model_path facebook/opt-2.7b\n"
     ]
    },
    {
     "name": "stderr",
     "output_type": "stream",
     "text": [
      "Loading checkpoint shards: 100%|██████████| 2/2 [00:10<00:00,  5.31s/it]\n",
      "Some weights of VideoBlipForConditionalGeneration were not initialized from the model checkpoint at Salesforce/blip2-opt-2.7b and are newly initialized: ['qformer.embeddings.word_embeddings.weight', 'qformer.embeddings.layernorm.weight', 'qformer.cls.predictions.transform.LayerNorm.bias', 'text_projection.weight', 'qformer.embeddings.position_embeddings.weight', 'itm_head.bias', 'itm_head.weight', 'qformer.cls.predictions.bias', 'qformer.cls.predictions.transform.dense.bias', 'qformer.cls.predictions.transform.LayerNorm.weight', 'qformer.cls.predictions.decoder.weight', 'qformer.embeddings.layernorm.bias', 'qformer.cls.predictions.transform.dense.weight', 'img_temperal_embedding.0', 'temp', 'qformer.cls.predictions.decoder.bias', 'text_projection.bias']\n",
      "You should probably TRAIN this model on a down-stream task to be able to use it for predictions and inference.\n",
      "Some weights of VideoBlipForConditionalGeneration were not initialized from the model checkpoint at Salesforce/blip2-opt-2.7b and are newly initialized because the shapes did not match:\n",
      "- language_projection.bias: found shape torch.Size([2560]) in the checkpoint and torch.Size([4096]) in the model instantiated\n",
      "- language_projection.weight: found shape torch.Size([2560, 768]) in the checkpoint and torch.Size([4096, 768]) in the model instantiated\n",
      "You should probably TRAIN this model on a down-stream task to be able to use it for predictions and inference.\n"
     ]
    }
   ],
   "source": [
    "model = load_model(config[\"model_config\"])"
   ]
  },
  {
   "cell_type": "code",
   "execution_count": 7,
   "metadata": {},
   "outputs": [],
   "source": [
    "if model_config[\"use_lora\"]:\n",
    "    keys_to_finetune.append(\"lora\")\n",
    "    model = apply_lora_model(model, model_config)\n",
    "\n",
    "# load pretrained weight\n",
    "if model_config.get(\"pretrained_path\") is not None:\n",
    "    print(\"load pretrained\")\n",
    "    load_pretrained_weight(model, model_config[\"pretrained_path\"])\n",
    "    print(\n",
    "        f'Successfully loading pretrained weights from {model_config[\"pretrained_path\"]}'\n",
    "    )"
   ]
  },
  {
   "cell_type": "code",
   "execution_count": 8,
   "metadata": {},
   "outputs": [],
   "source": [
    "# Set trainable params\n",
    "trainable_list, untrainable_list = set_trainable_params(model, keys_to_finetune, keys_to_freeze)"
   ]
  },
  {
   "cell_type": "code",
   "execution_count": 9,
   "metadata": {},
   "outputs": [],
   "source": [
    "trainer = Trainer(\n",
    "    model=model,\n",
    "    train_dataset=train_dataset,\n",
    "    eval_dataset=val_dataset,\n",
    "    args=training_args,\n",
    ")"
   ]
  },
  {
   "cell_type": "code",
   "execution_count": null,
   "metadata": {},
   "outputs": [],
   "source": [
    "with torch.autocast(\"cuda\"):\n",
    "    trainer.train()"
   ]
  },
  {
   "cell_type": "code",
   "execution_count": null,
   "metadata": {},
   "outputs": [],
   "source": []
  }
 ],
 "metadata": {
  "kernelspec": {
   "display_name": "llava",
   "language": "python",
   "name": "python3"
  },
  "language_info": {
   "codemirror_mode": {
    "name": "ipython",
    "version": 3
   },
   "file_extension": ".py",
   "mimetype": "text/x-python",
   "name": "python",
   "nbconvert_exporter": "python",
   "pygments_lexer": "ipython3",
   "version": "3.10.12"
  },
  "orig_nbformat": 4
 },
 "nbformat": 4,
 "nbformat_minor": 2
}
